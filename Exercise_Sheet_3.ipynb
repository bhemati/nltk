{
 "cells": [
  {
   "cell_type": "markdown",
   "metadata": {},
   "source": [
    "# Natural Language Processing\n",
    "\n",
    "## Exercise Sheet 3"
   ]
  },
  {
   "cell_type": "code",
   "execution_count": 1,
   "metadata": {},
   "outputs": [],
   "source": [
    "#imports for all exercises\n",
    "import re\n",
    "import random\n",
    "import nltk\n",
    "from nltk.corpus import brown\n"
   ]
  },
  {
   "cell_type": "markdown",
   "metadata": {},
   "source": [
    "### Exercise 1\n",
    "\n",
    "Rewrite the following loop as a list comprehension:"
   ]
  },
  {
   "cell_type": "code",
   "execution_count": 2,
   "metadata": {},
   "outputs": [
    {
     "output_type": "execute_result",
     "data": {
      "text/plain": [
       "[('The', 3),\n",
       " ('dog', 3),\n",
       " ('gave', 4),\n",
       " ('John', 4),\n",
       " ('the', 3),\n",
       " ('newspaper', 9)]"
      ]
     },
     "metadata": {},
     "execution_count": 2
    }
   ],
   "source": [
    "sent = ['The', 'dog', 'gave', 'John', 'the', 'newspaper'] \n",
    "result = [] \n",
    "for word in sent: \n",
    "    word_len = (word, len(word)) \n",
    "    result.append(word_len) \n",
    "result"
   ]
  },
  {
   "cell_type": "code",
   "execution_count": 3,
   "metadata": {},
   "outputs": [
    {
     "output_type": "execute_result",
     "data": {
      "text/plain": [
       "[('The', 3),\n",
       " ('dog', 3),\n",
       " ('gave', 4),\n",
       " ('John', 4),\n",
       " ('the', 3),\n",
       " ('newspaper', 9)]"
      ]
     },
     "metadata": {},
     "execution_count": 3
    }
   ],
   "source": [
    "[(word, len(word)) for word in sent]"
   ]
  },
  {
   "cell_type": "markdown",
   "metadata": {},
   "source": [
    "### Exercise 2\n",
    "\n",
    "Pig Latin is a simple transformation of English text. Each word of the text is converted as follows: move any consonant (or consonant cluster) that appears at the start of the word to the end, then append \"ay\", e.g. \"string\" $\\rightarrow$ \"ingstray\". If a word starts with a vowel, just add \"way\" to the end, e.g. \"idle\" $\\rightarrow$ \"idleway\". \n",
    "\n",
    "Write a function to convert a word to Pig Latin. Test it with the words \"pig\", \"cheers\", and \"omelet\".\n"
   ]
  },
  {
   "cell_type": "code",
   "execution_count": 4,
   "metadata": {},
   "outputs": [
    {
     "output_type": "stream",
     "name": "stdout",
     "text": [
      "igpay\neerschay\nno matching resuls for omelet\n"
     ]
    }
   ],
   "source": [
    "def pig_latin(word):\n",
    "    match = re.search('^[^aeiouAEIOU]+', word)\n",
    "    if match:\n",
    "        word = word + match.group()\n",
    "        word2 = word[match.end():]\n",
    "        word2 = word2 + 'ay'\n",
    "        return word2\n",
    "    else:\n",
    "        return 'no matching resuls for ' + word\n",
    "for word in ['pig', 'cheers', 'omelet']:\n",
    "    print(pig_latin(word))\n",
    "\n"
   ]
  },
  {
   "cell_type": "markdown",
   "metadata": {},
   "source": [
    "### Exercise 3\n",
    "\n",
    "Python's `random` module includes a function `choice()` which randomly chooses an item from a sequence, e.g. `choice('aehh ')` will produce one of four possible characters, with the letter \"h\" being twice as frequent as the others. Write a generator expression that produces a sequence of 500 randomly chosen letters drawn from the string \"aehh \", and put this expression inside a call to the `''.join()` function, to concatenate them into one long string. You should get a result that looks like uncontrolled sneezing or maniacal laughter: \"he  haha ee  heheeh eha\". Use `split()` and `join()` again to normalize the whitespace in this string."
   ]
  },
  {
   "cell_type": "code",
   "execution_count": 5,
   "metadata": {},
   "outputs": [
    {
     "output_type": "execute_result",
     "data": {
      "text/plain": [
       "'ahhah ahhhaheh ehhhhhhhea eh hhah eehhheeaeheaahhhhhahehhhahahee ehh hehhheahh hhh hhhhhhhhh hhehhhhaea e hehaaheehh ahahea eaaehhh heaehhaeaehh ahah a hhhhh eeah a hheh hahehehhheh aaeheeh hheahaaehaee a hheh hh eaeh e eea ahhhh hhhhhehhehhh eheaehhhah ehaehheha e hhah ehh ha h eeahhhha h ehhah aeh a e hhahahhe a e haeha haahaaee aha aahhh ahh ah he ea aeheahh ahhhheeehhhaa heh ahheh ehhe ae aah ehaaeaahahh ehaa hhehhahhhhah aeaahaa eha hhhheheeeheaha ehaehehhhh hh e ehahhheh'"
      ]
     },
     "metadata": {},
     "execution_count": 5
    }
   ],
   "source": [
    "\" \".join(''.join(random.choices('aehh ', k=500)).split())"
   ]
  },
  {
   "cell_type": "markdown",
   "metadata": {},
   "source": [
    "### Exercise 4\n",
    "\n",
    "Readability measures are used to score the reading difficulty of a text, for the purposes of selecting texts of appropriate difficulty for language learners. Let us define $\\mu_w$ to be the average number of letters per word, and $\\mu_s$ to be the average number of words per sentence, in a given text. The Automated Readability Index (ARI) of the text is defined to be: $4.71 \\mu_w + 0.5 \\mu_s - 21.43$. Compute the ARI score for the \"lore\" and \"learned\" genre of the Brown Corpus. Make use of the fact that `nltk.corpus.brown.words()` produces a sequence of words, while `nltk.corpus.brown.sents()` produces a sequence of sentences.\n"
   ]
  },
  {
   "cell_type": "code",
   "execution_count": 6,
   "metadata": {},
   "outputs": [
    {
     "output_type": "stream",
     "name": "stdout",
     "text": [
      "ARI of lore is 10.254756197101155\n",
      "ARI of learned is 11.926007043317348\n"
     ]
    }
   ],
   "source": [
    "def ari(genre):\n",
    "    word_list = [len(w) for w in nltk.corpus.brown.words(categories=genre)]\n",
    "    mu_b = sum(word_list)/len(word_list)\n",
    "    sent_list = [len(s) for s in nltk.corpus.brown.sents(categories=genre)]\n",
    "    mu_s = sum(sent_list)/len(sent_list)\n",
    "    mu_s\n",
    "    return 4.71 * mu_b + 0.5 * mu_s - 21.43\n",
    "for genre in ['lore', 'learned']:\n",
    "    print('ARI of', genre , 'is', ari(genre))\n"
   ]
  },
  {
   "cell_type": "markdown",
   "metadata": {},
   "source": [
    "### Exercise 5\n",
    "\n",
    "Define a variable `silly` to contain the string: 'newly formed bland ideas are inexpressible in an infuriating way'. Now write code to perform the following tasks:\n",
    "\n",
    "a) Split `silly` into a list of strings, one per word, using Python's `split()` operation, and save this to a variable called `bland`.  \n",
    "b) Extract the second letter of each word in `silly` and join them into a string, to get 'eoldrnnnna'.  \n",
    "c) Combine the words in `bland` back into a single string, using `join()`. Make sure the words in the resulting string are separated with whitespace.  \n",
    "d) Print the words of `silly` in alphabetical order, one per line.  "
   ]
  },
  {
   "cell_type": "code",
   "execution_count": 7,
   "metadata": {},
   "outputs": [
    {
     "output_type": "stream",
     "name": "stdout",
     "text": [
      "b) eoldrnnnna\nc) newly formed bland ideas are inexpressible in an infuriating way\nd)\nan\nare\nbland\nformed\nideas\nin\ninexpressible\ninfuriating\nnewly\nway\n"
     ]
    }
   ],
   "source": [
    "silly = 'newly formed bland ideas are inexpressible in an infuriating way'\n",
    "bland = silly.split()\n",
    "print('b)', ''.join([w[1] for w in bland]))\n",
    "print('c)', ' '.join(bland))\n",
    "print('d)')\n",
    "for word in sorted(bland):\n",
    "    print(word)"
   ]
  },
  {
   "cell_type": "markdown",
   "metadata": {},
   "source": [
    "### Exercise 6\n",
    "\n",
    "Rewrite the following nested loop as a nested list comprehension:"
   ]
  },
  {
   "cell_type": "code",
   "execution_count": 8,
   "metadata": {},
   "outputs": [
    {
     "output_type": "execute_result",
     "data": {
      "text/plain": [
       "['aiuio', 'eaiou', 'eouio', 'euoia', 'oauaio', 'uiieioa']"
      ]
     },
     "metadata": {},
     "execution_count": 8
    }
   ],
   "source": [
    "words = ['attribution', 'confabulation', 'tenacious', 'elocution',\n",
    "         'sequoia', 'tenacious', 'unidirectional']\n",
    "vsequences = set()\n",
    "for word in words:\n",
    "    vowels = []\n",
    "    for char in word:\n",
    "        if char in 'aeiou':\n",
    "            vowels.append(char)\n",
    "    vsequences.add(''.join(vowels))\n",
    "sorted(vsequences)"
   ]
  },
  {
   "cell_type": "code",
   "execution_count": 9,
   "metadata": {},
   "outputs": [
    {
     "output_type": "execute_result",
     "data": {
      "text/plain": [
       "['aiuio', 'eaiou', 'eouio', 'euoia', 'oauaio', 'uiieioa']"
      ]
     },
     "metadata": {},
     "execution_count": 9
    }
   ],
   "source": [
    "sorted({''.join(re.findall('[aeiou]', word)) for word in words})"
   ]
  },
  {
   "cell_type": "code",
   "execution_count": null,
   "metadata": {},
   "outputs": [],
   "source": []
  }
 ],
 "metadata": {
  "kernelspec": {
   "name": "python385jvsc74a57bd0da6d18734621f1fc5d56fa29b3b268e50eec006e355982e9a9b55dc343fae36d",
   "display_name": "Python 3.8.5 64-bit ('.nltk_venv')"
  }
 },
 "nbformat": 4,
 "nbformat_minor": 2
}